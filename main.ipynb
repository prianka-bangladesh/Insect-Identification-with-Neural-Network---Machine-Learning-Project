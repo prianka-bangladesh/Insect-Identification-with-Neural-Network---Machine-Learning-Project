{
 "cells": [
  {
   "cell_type": "code",
   "execution_count": 8,
   "metadata": {},
   "outputs": [],
   "source": [
    "import numpy as np\n",
    "import pandas as pd\n",
    "import matplotlib.pyplot as plt\n",
    "\n",
    "\n",
    "# sklearn utilities\n",
    "from sklearn import datasets\n",
    "from sklearn.model_selection import train_test_split\n",
    "from sklearn.metrics import confusion_matrix, classification_report, ConfusionMatrixDisplay\n",
    "from sklearn import preprocessing\n",
    "\n",
    "\n",
    "# sklearn models\n",
    "from sklearn.linear_model import LogisticRegression\n",
    "from sklearn.tree import DecisionTreeClassifier\n",
    "from sklearn.svm import SVC\n",
    "from sklearn.ensemble import RandomForestClassifier\n",
    "from sklearn.decomposition import PCA\n",
    "import warnings\n",
    "warnings.filterwarnings('ignore')\n",
    "from PIL import Image\n",
    "import os\n",
    "from numpy import asarray"
   ]
  },
  {
   "cell_type": "code",
   "execution_count": 11,
   "metadata": {},
   "outputs": [
    {
     "name": "stdout",
     "output_type": "stream",
     "text": [
      "(626, 429, 3)\n",
      "(730, 525, 3)\n",
      "(726, 506, 3)\n",
      "(741, 521, 3)\n",
      "(737, 506, 3)\n",
      "(579, 286, 3)\n",
      "(575, 332, 3)\n",
      "(591, 324, 3)\n",
      "(583, 266, 3)\n",
      "(587, 340, 3)\n",
      "(571, 290, 3)\n",
      "(598, 328, 3)\n",
      "(571, 301, 3)\n",
      "(579, 336, 3)\n",
      "(568, 344, 3)\n",
      "(591, 436, 3)\n",
      "(575, 328, 3)\n",
      "(626, 336, 3)\n"
     ]
    }
   ],
   "source": [
    "path = os.getcwd() + '/database/1035167'\n",
    "for filename in os.listdir(path):\n",
    "    if filename.endswith(\".jpg\") :\n",
    "        image = os.path.join(path, filename)\n",
    "        image = Image.open(image)\n",
    "        # summarize some details about the image\n",
    "        data = asarray(image)\n",
    "        print(data.shape)\n",
    "    else:\n",
    "        continue"
   ]
  },
  {
   "cell_type": "code",
   "execution_count": null,
   "metadata": {},
   "outputs": [],
   "source": []
  }
 ],
 "metadata": {
  "kernelspec": {
   "display_name": "Python 3",
   "language": "python",
   "name": "python3"
  },
  "language_info": {
   "codemirror_mode": {
    "name": "ipython",
    "version": 3
   },
   "file_extension": ".py",
   "mimetype": "text/x-python",
   "name": "python",
   "nbconvert_exporter": "python",
   "pygments_lexer": "ipython3",
   "version": "3.8.8"
  }
 },
 "nbformat": 4,
 "nbformat_minor": 2
}
