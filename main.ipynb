{
 "cells": [
  {
   "cell_type": "code",
   "execution_count": null,
   "metadata": {},
   "outputs": [],
   "source": [
    "import numpy as np\n",
    "import pandas as pd\n",
    "import matplotlib.pyplot as plt\n",
    "\n",
    "\n",
    "# sklearn utilities\n",
    "from sklearn import datasets\n",
    "from sklearn.model_selection import train_test_split\n",
    "from sklearn.metrics import confusion_matrix, classification_report, ConfusionMatrixDisplay\n",
    "from sklearn import preprocessing\n",
    "\n",
    "\n",
    "# sklearn models\n",
    "from sklearn.linear_model import LogisticRegression\n",
    "from sklearn.tree import DecisionTreeClassifier\n",
    "from sklearn.svm import SVC\n",
    "from sklearn.ensemble import RandomForestClassifier\n",
    "from sklearn.decomposition import PCA\n",
    "import warnings\n",
    "warnings.filterwarnings('ignore')\n",
    "from PIL import Image\n",
    "import os\n",
    "from numpy import asarray"
   ]
  },
  {
   "cell_type": "code",
   "execution_count": null,
   "metadata": {
    "scrolled": true
   },
   "outputs": [],
   "source": [
    "path = os.getcwd() + '/database/'\n",
    "i = 0\n",
    "target = np.zeros([4952])\n",
    "data = np.zeros([4952, 76800])\n",
    "for dirName in os.listdir(path):\n",
    "    if dirName.endswith(\".DS_Store\") :\n",
    "        continue\n",
    "    else:\n",
    "        path2 = path + dirName\n",
    "        for filename in os.listdir(path2):\n",
    "            if filename.endswith(\".jpg\") :\n",
    "                image = os.path.join(path2, filename)\n",
    "                image = Image.open(image)\n",
    "                imageData = asarray(image)\n",
    "                img= imageData.ravel()\n",
    "                data[i] = img\n",
    "\n",
    "                target[i] = dirName\n",
    "                i+=1\n",
    "            else:\n",
    "                continue\n",
    "\n"
   ]
  },
  {
   "cell_type": "code",
   "execution_count": 4,
   "metadata": {
    "scrolled": false
   },
   "outputs": [
    {
     "name": "stdout",
     "output_type": "stream",
     "text": [
      "[1035167. 1035167. 1035167. 1035167. 1035167. 1035167. 1035167. 1035167.\n",
      " 1035167. 1035167. 1035167. 1035167. 1035167. 1035167. 1035167. 1035167.\n",
      " 1035167. 1035167. 1035194. 1035194. 1035194. 1035194. 1035194. 1035194.\n",
      " 1035194. 1035194. 1035194. 1035194. 1035194. 1035194. 1035194. 1035194.\n",
      " 1035194. 1035194. 1035194. 1035194. 1035185. 1035185. 1035185. 1035185.\n",
      " 1035185. 1035185. 1035185. 1035185. 1035185. 1035185. 1035185. 1035185.\n",
      " 1035185. 1035185. 1035185. 1035185. 1035185. 1035185. 1035185.]\n"
     ]
    }
   ],
   "source": [
    "path = os.getcwd() + '/database/1035167'\n",
    "i = 0\n",
    "target = np.zeros([55])\n",
    "data = np.zeros([55, 240000])\n",
    "for filename in os.listdir(path):\n",
    "    if filename.endswith(\".jpg\") :\n",
    "        image = os.path.join(path, filename)\n",
    "        image = Image.open(image)\n",
    "        imageData = asarray(image)\n",
    "        img= imageData.ravel()\n",
    "        data[i]=img\n",
    "        \n",
    "        target[i] = '1035167'\n",
    "        i+=1\n",
    "    else:\n",
    "        continue\n",
    "\n",
    "path = os.getcwd() + '/database/1035194'\n",
    "for filename in os.listdir(path):\n",
    "    if filename.endswith(\".jpg\") :\n",
    "        image = os.path.join(path, filename)\n",
    "        image = Image.open(image)\n",
    "        imageData = asarray(image)\n",
    "        img= imageData.ravel()\n",
    "        data[i]=img\n",
    "        \n",
    "        target[i] = '1035194'\n",
    "        i+=1\n",
    "    else:\n",
    "        continue\n",
    "\n",
    "path = os.getcwd() + '/database/1035185'\n",
    "for filename in os.listdir(path):\n",
    "    if filename.endswith(\".jpg\") :\n",
    "        image = os.path.join(path, filename)\n",
    "        image = Image.open(image)\n",
    "        imageData = asarray(image)\n",
    "        img= imageData.ravel()\n",
    "        data[i]=img\n",
    "        target[i] = '1035185'\n",
    "        i+=1\n",
    "\n",
    "    else:\n",
    "        continue\n",
    "dtfr = pd.DataFrame(data= data)\n",
    "print(target)\n"
   ]
  },
  {
   "cell_type": "code",
   "execution_count": null,
   "metadata": {},
   "outputs": [],
   "source": [
    "dtfr = pd.DataFrame(data= data)\n",
    "print(target)"
   ]
  },
  {
   "cell_type": "code",
   "execution_count": null,
   "metadata": {},
   "outputs": [],
   "source": [
    "final_df = dtfr.assign(target=target)\n",
    "print(final_df)"
   ]
  },
  {
   "cell_type": "code",
   "execution_count": null,
   "metadata": {
    "scrolled": true
   },
   "outputs": [],
   "source": [
    "x_train, x_test, y_train, y_test = train_test_split(data, target, test_size=0.25, random_state=0)\n",
    "x_train"
   ]
  },
  {
   "cell_type": "code",
   "execution_count": null,
   "metadata": {},
   "outputs": [],
   "source": [
    "tree = DecisionTreeClassifier()\n",
    "tree.fit(x_train, y_train)\n",
    "tree.score(x_test,y_test)"
   ]
  }
 ],
 "metadata": {
  "kernelspec": {
   "display_name": "Python 3",
   "language": "python",
   "name": "python3"
  },
  "language_info": {
   "codemirror_mode": {
    "name": "ipython",
    "version": 3
   },
   "file_extension": ".py",
   "mimetype": "text/x-python",
   "name": "python",
   "nbconvert_exporter": "python",
   "pygments_lexer": "ipython3",
   "version": "3.8.8"
  }
 },
 "nbformat": 4,
 "nbformat_minor": 2
}
