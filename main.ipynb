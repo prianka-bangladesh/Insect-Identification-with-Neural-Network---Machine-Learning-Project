{
 "cells": [
  {
   "cell_type": "code",
   "execution_count": 1,
   "metadata": {},
   "outputs": [],
   "source": [
    "import numpy as np\n",
    "import pandas as pd\n",
    "import matplotlib.pyplot as plt\n",
    "\n",
    "\n",
    "# sklearn utilities\n",
    "from sklearn import datasets\n",
    "from sklearn.model_selection import train_test_split\n",
    "from sklearn.metrics import confusion_matrix, classification_report, ConfusionMatrixDisplay\n",
    "from sklearn import preprocessing\n",
    "\n",
    "\n",
    "# sklearn models\n",
    "from sklearn.linear_model import LogisticRegression\n",
    "from sklearn.tree import DecisionTreeClassifier\n",
    "from sklearn.svm import SVC\n",
    "from sklearn.ensemble import RandomForestClassifier\n",
    "from sklearn.decomposition import PCA\n",
    "import warnings\n",
    "warnings.filterwarnings('ignore')\n",
    "from PIL import Image\n",
    "import os\n",
    "from numpy import asarray"
   ]
  },
  {
   "cell_type": "code",
   "execution_count": 2,
   "metadata": {
    "scrolled": true
   },
   "outputs": [],
   "source": [
    "path = os.getcwd() + '/database/'\n",
    "i = 0\n",
    "target = np.zeros([4952])\n",
    "data = np.zeros([4952, 76800])\n",
    "for dirName in os.listdir(path):\n",
    "    if dirName.endswith(\".DS_Store\") :\n",
    "        continue\n",
    "    else:\n",
    "        path2 = path + dirName\n",
    "        for filename in os.listdir(path2):\n",
    "            if filename.endswith(\".jpg\") :\n",
    "                image = os.path.join(path2, filename)\n",
    "                image = Image.open(image)\n",
    "                imageData = asarray(image)\n",
    "                img= imageData.ravel()\n",
    "                data[i] = img\n",
    "\n",
    "                target[i] = dirName\n",
    "                i+=1\n",
    "            else:\n",
    "                continue\n",
    "\n"
   ]
  },
  {
   "cell_type": "code",
   "execution_count": 3,
   "metadata": {},
   "outputs": [
    {
     "name": "stdout",
     "output_type": "stream",
     "text": [
      "[1036216. 1036216. 1036216. ...       0.       0.       0.]\n"
     ]
    }
   ],
   "source": [
    "dtfr = pd.DataFrame(data= data)\n",
    "print(target)"
   ]
  },
  {
   "cell_type": "code",
   "execution_count": 4,
   "metadata": {},
   "outputs": [
    {
     "name": "stdout",
     "output_type": "stream",
     "text": [
      "          0      1      2      3      4      5      6      7      8      9  \\\n",
      "0     118.0  120.0  115.0  115.0  117.0  112.0  116.0  118.0  113.0  121.0   \n",
      "1     163.0  173.0  164.0  163.0  173.0  164.0  163.0  173.0  164.0  164.0   \n",
      "2     119.0  125.0  113.0  120.0  126.0  112.0  120.0  124.0  110.0  118.0   \n",
      "3      88.0   89.0   94.0   87.0   88.0   93.0   86.0   90.0   93.0   94.0   \n",
      "4     171.0  173.0  159.0  169.0  171.0  157.0  168.0  172.0  157.0  169.0   \n",
      "...     ...    ...    ...    ...    ...    ...    ...    ...    ...    ...   \n",
      "4947    0.0    0.0    0.0    0.0    0.0    0.0    0.0    0.0    0.0    0.0   \n",
      "4948    0.0    0.0    0.0    0.0    0.0    0.0    0.0    0.0    0.0    0.0   \n",
      "4949    0.0    0.0    0.0    0.0    0.0    0.0    0.0    0.0    0.0    0.0   \n",
      "4950    0.0    0.0    0.0    0.0    0.0    0.0    0.0    0.0    0.0    0.0   \n",
      "4951    0.0    0.0    0.0    0.0    0.0    0.0    0.0    0.0    0.0    0.0   \n",
      "\n",
      "      ...  76791  76792  76793  76794  76795  76796  76797  76798  76799  \\\n",
      "0     ...  139.0  143.0  129.0  136.0  140.0  126.0  136.0  139.0  128.0   \n",
      "1     ...  145.0  146.0  138.0  144.0  145.0  137.0  143.0  144.0  136.0   \n",
      "2     ...  133.0  145.0  133.0  134.0  146.0  136.0  134.0  146.0  136.0   \n",
      "3     ...  165.0  172.0  165.0  167.0  174.0  167.0  167.0  174.0  167.0   \n",
      "4     ...  174.0  177.0  160.0  172.0  175.0  158.0  174.0  177.0  160.0   \n",
      "...   ...    ...    ...    ...    ...    ...    ...    ...    ...    ...   \n",
      "4947  ...    0.0    0.0    0.0    0.0    0.0    0.0    0.0    0.0    0.0   \n",
      "4948  ...    0.0    0.0    0.0    0.0    0.0    0.0    0.0    0.0    0.0   \n",
      "4949  ...    0.0    0.0    0.0    0.0    0.0    0.0    0.0    0.0    0.0   \n",
      "4950  ...    0.0    0.0    0.0    0.0    0.0    0.0    0.0    0.0    0.0   \n",
      "4951  ...    0.0    0.0    0.0    0.0    0.0    0.0    0.0    0.0    0.0   \n",
      "\n",
      "         target  \n",
      "0     1036216.0  \n",
      "1     1036216.0  \n",
      "2     1036216.0  \n",
      "3     1036216.0  \n",
      "4     1036216.0  \n",
      "...         ...  \n",
      "4947        0.0  \n",
      "4948        0.0  \n",
      "4949        0.0  \n",
      "4950        0.0  \n",
      "4951        0.0  \n",
      "\n",
      "[4952 rows x 76801 columns]\n"
     ]
    }
   ],
   "source": [
    "final_df = dtfr.assign(target=target)\n",
    "print(final_df)"
   ]
  },
  {
   "cell_type": "code",
   "execution_count": 5,
   "metadata": {
    "scrolled": true
   },
   "outputs": [
    {
     "data": {
      "text/plain": [
       "array([[157., 166., 163., ..., 153., 163., 164.],\n",
       "       [152., 166., 166., ..., 131., 137., 135.],\n",
       "       [181., 185., 171., ..., 181., 183., 172.],\n",
       "       ...,\n",
       "       [134., 140., 136., ..., 140., 146., 136.],\n",
       "       [131., 141., 140., ..., 129., 137., 139.],\n",
       "       [147., 158., 162., ..., 117., 127., 128.]])"
      ]
     },
     "execution_count": 5,
     "metadata": {},
     "output_type": "execute_result"
    }
   ],
   "source": [
    "x_train, x_test, y_train, y_test = train_test_split(data, target, test_size=0.25, random_state=0)\n",
    "x_train"
   ]
  },
  {
   "cell_type": "code",
   "execution_count": 6,
   "metadata": {},
   "outputs": [
    {
     "data": {
      "text/plain": [
       "0.3667205169628433"
      ]
     },
     "execution_count": 6,
     "metadata": {},
     "output_type": "execute_result"
    }
   ],
   "source": [
    "tree = DecisionTreeClassifier()\n",
    "tree.fit(x_train, y_train)\n",
    "tree.score(x_test,y_test)"
   ]
  }
 ],
 "metadata": {
  "kernelspec": {
   "display_name": "Python 3",
   "language": "python",
   "name": "python3"
  },
  "language_info": {
   "codemirror_mode": {
    "name": "ipython",
    "version": 3
   },
   "file_extension": ".py",
   "mimetype": "text/x-python",
   "name": "python",
   "nbconvert_exporter": "python",
   "pygments_lexer": "ipython3",
   "version": "3.8.8"
  }
 },
 "nbformat": 4,
 "nbformat_minor": 2
}
