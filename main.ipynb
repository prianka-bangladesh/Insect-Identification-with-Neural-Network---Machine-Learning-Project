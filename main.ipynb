{
 "cells": [
  {
   "cell_type": "code",
   "execution_count": 31,
   "metadata": {},
   "outputs": [],
   "source": [
    "import numpy as np\n",
    "import pandas as pd\n",
    "import matplotlib.pyplot as plt\n",
    "\n",
    "\n",
    "# sklearn utilities\n",
    "from sklearn import datasets\n",
    "from sklearn.model_selection import train_test_split\n",
    "from sklearn.metrics import confusion_matrix, classification_report, ConfusionMatrixDisplay\n",
    "from sklearn import preprocessing\n",
    "\n",
    "\n",
    "# sklearn models\n",
    "from sklearn.linear_model import LogisticRegression\n",
    "from sklearn.tree import DecisionTreeClassifier\n",
    "from sklearn.svm import SVC\n",
    "from sklearn.ensemble import RandomForestClassifier\n",
    "from sklearn.decomposition import PCA\n",
    "import warnings\n",
    "warnings.filterwarnings('ignore')\n",
    "from PIL import Image\n",
    "import os\n",
    "from numpy import asarray"
   ]
  },
  {
   "cell_type": "code",
   "execution_count": 40,
   "metadata": {},
   "outputs": [
    {
     "name": "stdout",
     "output_type": "stream",
     "text": [
      ".DS_Store\n",
      "1035185\n",
      "d158s0001.jpg\n",
      "d158s0015.jpg\n",
      "d158s0014.jpg\n",
      "d158s0016.jpg\n",
      "d158s0002.jpg\n",
      "d158s0003.jpg\n",
      "d158s0017.jpg\n",
      "d158s0013.jpg\n",
      "d158s0007.jpg\n",
      ".DS_Store\n",
      "d158s0006.jpg\n",
      "d158s0012.jpg\n",
      "d158s0004.jpg\n",
      "d158s0010.jpg\n",
      "d158s0011.jpg\n",
      "d158s0005.jpg\n",
      "d158s0008.jpg\n",
      "d158s0009.jpg\n",
      "d158s0018.jpg\n",
      "1035194\n",
      "d170s0012.jpg\n",
      "d170s0006.jpg\n",
      "d170s0007.jpg\n",
      "d170s0013.jpg\n",
      "d170s0005.jpg\n",
      "d170s0011.jpg\n",
      "d170s0010.jpg\n",
      "d170s0014.jpg\n",
      ".DS_Store\n",
      "d170s0015.jpg\n",
      "d170s0017.jpg\n",
      "d170s0016.jpg\n",
      "d170s0018.jpg\n",
      "d170s0019.jpg\n",
      "d170s0009.jpg\n",
      "d170s0021.jpg\n",
      "d170s0020.jpg\n",
      "d170s0008.jpg\n",
      "d170s0022.jpg\n",
      "1035167\n",
      "d162s0022.jpg\n",
      "d162s0021.jpg\n",
      "d162s0020.jpg\n",
      ".DS_Store\n",
      "d162s0018.jpg\n",
      "d162s0019.jpg\n",
      "d162s0041.jpg\n",
      "d162s0040.jpg\n",
      "d162s0042.jpg\n",
      "d162s0043.jpg\n",
      "d162s0044.jpg\n",
      "d162s0045.jpg\n",
      "d162s0017.jpg\n",
      "d162s0016.jpg\n",
      "d162s0014.jpg\n",
      "d162s0015.jpg\n",
      "d162s0011.jpg\n",
      "d162s0012.jpg\n",
      "d162s0013.jpg\n"
     ]
    }
   ],
   "source": [
    "path = os.getcwd() + '/database'\n",
    "for filename in os.listdir(path):\n",
    "    print(filename)\n",
    "    if (filename != \".DS_Store\"):\n",
    "        subFile = os.path.join(path, filename)\n",
    "        for pics in os.listdir(subFile):\n",
    "            print(pics)\n",
    "    "
   ]
  },
  {
   "cell_type": "code",
   "execution_count": 36,
   "metadata": {},
   "outputs": [
    {
     "name": "stdout",
     "output_type": "stream",
     "text": [
      "(626, 429, 3)\n",
      "(730, 525, 3)\n",
      "(726, 506, 3)\n",
      "(741, 521, 3)\n",
      "(737, 506, 3)\n",
      "(579, 286, 3)\n",
      "(575, 332, 3)\n",
      "(591, 324, 3)\n",
      "(583, 266, 3)\n",
      "(587, 340, 3)\n",
      "(571, 290, 3)\n",
      "(598, 328, 3)\n",
      "(571, 301, 3)\n",
      "(579, 336, 3)\n",
      "(568, 344, 3)\n",
      "(591, 436, 3)\n",
      "(575, 328, 3)\n",
      "(626, 336, 3)\n"
     ]
    }
   ],
   "source": [
    "path = os.getcwd() + '/database/1035167'\n",
    "i = 0\n",
    "#data = np.empty([100, 1000000])\n",
    "for filename in os.listdir(path):\n",
    "    if filename.endswith(\".jpg\") :\n",
    "        image = os.path.join(path, filename)\n",
    "        image = Image.open(image)\n",
    "        # summarize some details about the image\n",
    "        imageData = asarray(image)\n",
    "        data = imageData.reshape(-1)\n",
    "        print(imageData.shape)\n",
    "    else:\n",
    "        continue\n",
    "\n"
   ]
  },
  {
   "cell_type": "code",
   "execution_count": null,
   "metadata": {},
   "outputs": [],
   "source": []
  }
 ],
 "metadata": {
  "kernelspec": {
   "display_name": "Python 3",
   "language": "python",
   "name": "python3"
  },
  "language_info": {
   "codemirror_mode": {
    "name": "ipython",
    "version": 3
   },
   "file_extension": ".py",
   "mimetype": "text/x-python",
   "name": "python",
   "nbconvert_exporter": "python",
   "pygments_lexer": "ipython3",
   "version": "3.8.8"
  }
 },
 "nbformat": 4,
 "nbformat_minor": 2
}
